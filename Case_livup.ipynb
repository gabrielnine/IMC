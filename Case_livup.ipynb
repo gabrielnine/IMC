{
  "nbformat": 4,
  "nbformat_minor": 0,
  "metadata": {
    "colab": {
      "provenance": [],
      "authorship_tag": "ABX9TyNKpWifr9XF4ky3G9b5kVyO",
      "include_colab_link": true
    },
    "kernelspec": {
      "name": "python3",
      "display_name": "Python 3"
    },
    "language_info": {
      "name": "python"
    }
  },
  "cells": [
    {
      "cell_type": "markdown",
      "metadata": {
        "id": "view-in-github",
        "colab_type": "text"
      },
      "source": [
        "<a href=\"https://colab.research.google.com/github/gabrielnine/IMC/blob/main/Case_livup.ipynb\" target=\"_parent\"><img src=\"https://colab.research.google.com/assets/colab-badge.svg\" alt=\"Open In Colab\"/></a>"
      ]
    },
    {
      "cell_type": "code",
      "execution_count": null,
      "metadata": {
        "collapsed": true,
        "id": "oGY4w_tEtVg-"
      },
      "outputs": [],
      "source": []
    },
    {
      "cell_type": "code",
      "source": [],
      "metadata": {
        "id": "U5JYXde84gIa"
      },
      "execution_count": null,
      "outputs": []
    },
    {
      "cell_type": "markdown",
      "source": [],
      "metadata": {
        "id": "HO81hjRrCmQS"
      }
    },
    {
      "cell_type": "code",
      "source": [
        "# 1. Configurando os valores básicos\n",
        "num_clientes = 100  # Número de clientes adquiridos\n",
        "cac_por_cliente = 150  # Custo de aquisição por cliente\n",
        "lucro_primeira_compra = 30  # Lucro na primeira compra por cliente\n",
        "lucro_recompra = 60  # Lucro em cada recompra\n",
        "meses_simulados = 50  # Total de meses para simulação\n",
        "\n",
        "# Calculando o CAC total\n",
        "cac_total = num_clientes * cac_por_cliente\n",
        "\n",
        "# 2. Definindo a probabilidade de recompra por mês\n",
        "# Primeiros 10 meses: probabilidade diminui de 20% para 5%\n",
        "# Após 10 meses: probabilidade constante de 5%\n",
        "prob_recompra = [0.2 - (0.15 / 9) * i for i in range(10)] + [0.05] * (meses_simulados - 10)\n",
        "\n",
        "# 3. Calculando o lucro mês a mês\n",
        "lucro_mensal = []\n",
        "lucro_acumulado = []\n",
        "\n",
        "# Primeiro mês: apenas lucro da primeira compra\n",
        "lucro_0 = num_clientes * lucro_primeira_compra\n",
        "lucro_mensal.append(lucro_0)\n",
        "\n",
        "# Meses seguintes: lucro das recompras\n",
        "for mes in range(1, meses_simulados):\n",
        "    clientes_recomprando = num_clientes * prob_recompra[mes]\n",
        "    lucro_mes = clientes_recomprando * lucro_recompra\n",
        "    lucro_mensal.append(lucro_mes)\n",
        "\n",
        "# 4. Calculando o lucro acumulado\n",
        "lucro_total = 0\n",
        "for mes in lucro_mensal:\n",
        "    lucro_total += mes\n",
        "    lucro_acumulado.append(lucro_total)\n",
        "\n",
        "# 5. Identificando o mês lucrativo\n",
        "mes_lucrativo = -1\n",
        "for i, lucro in enumerate(lucro_acumulado):\n",
        "    if lucro >= cac_total:\n",
        "        mes_lucrativo = i\n",
        "        break\n",
        "\n",
        "# 6. Exibindo os resultados\n",
        "print(f\"Mês em que a empresa se torna lucrativa: {mes_lucrativo}\")\n",
        "print(\"Resumo dos primeiros 15 meses:\")\n",
        "for i in range(15):\n",
        "    print(f\"Mês {i}: Lucro Mensal = R${lucro_mensal[i]:.2f}, Lucro Acumulado = R${lucro_acumulado[i]:.2f}\")\n",
        "\n"
      ],
      "metadata": {
        "id": "jWP6FEoVCnCX",
        "outputId": "7888afc4-adc5-4ff0-e405-b44cded73e0b",
        "colab": {
          "base_uri": "https://localhost:8080/"
        }
      },
      "execution_count": null,
      "outputs": [
        {
          "output_type": "stream",
          "name": "stdout",
          "text": [
            "Mês em que a empresa se torna lucrativa: 28\n",
            "Resumo dos primeiros 15 meses:\n",
            "Mês 0: Lucro Mensal = R$3000.00, Lucro Acumulado = R$3000.00\n",
            "Mês 1: Lucro Mensal = R$1100.00, Lucro Acumulado = R$4100.00\n",
            "Mês 2: Lucro Mensal = R$1000.00, Lucro Acumulado = R$5100.00\n",
            "Mês 3: Lucro Mensal = R$900.00, Lucro Acumulado = R$6000.00\n",
            "Mês 4: Lucro Mensal = R$800.00, Lucro Acumulado = R$6800.00\n",
            "Mês 5: Lucro Mensal = R$700.00, Lucro Acumulado = R$7500.00\n",
            "Mês 6: Lucro Mensal = R$600.00, Lucro Acumulado = R$8100.00\n",
            "Mês 7: Lucro Mensal = R$500.00, Lucro Acumulado = R$8600.00\n",
            "Mês 8: Lucro Mensal = R$400.00, Lucro Acumulado = R$9000.00\n",
            "Mês 9: Lucro Mensal = R$300.00, Lucro Acumulado = R$9300.00\n",
            "Mês 10: Lucro Mensal = R$300.00, Lucro Acumulado = R$9600.00\n",
            "Mês 11: Lucro Mensal = R$300.00, Lucro Acumulado = R$9900.00\n",
            "Mês 12: Lucro Mensal = R$300.00, Lucro Acumulado = R$10200.00\n",
            "Mês 13: Lucro Mensal = R$300.00, Lucro Acumulado = R$10500.00\n",
            "Mês 14: Lucro Mensal = R$300.00, Lucro Acumulado = R$10800.00\n"
          ]
        }
      ]
    }
  ]
}